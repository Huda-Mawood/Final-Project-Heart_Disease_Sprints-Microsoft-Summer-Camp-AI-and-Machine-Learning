{
 "cells": [
  {
   "cell_type": "code",
   "execution_count": 23,
   "id": "126092b4",
   "metadata": {},
   "outputs": [],
   "source": [
    "#Import Libraries\n",
    "import pandas as pd\n",
    "import numpy as np\n",
    "import matplotlib.pyplot as plt\n",
    "import seaborn as sns\n"
   ]
  },
  {
   "cell_type": "code",
   "execution_count": 24,
   "id": "fc0993dd",
   "metadata": {},
   "outputs": [
    {
     "name": "stderr",
     "output_type": "stream",
     "text": [
      "C:\\Users\\AIO\\AppData\\Local\\Temp\\ipykernel_1820\\441687631.py:2: FutureWarning: A value is trying to be set on a copy of a DataFrame or Series through chained assignment using an inplace method.\n",
      "The behavior will change in pandas 3.0. This inplace method will never work because the intermediate object on which we are setting values always behaves as a copy.\n",
      "\n",
      "For example, when doing 'df[col].method(value, inplace=True)', try using 'df.method({col: value}, inplace=True)' or df[col] = df[col].method(value) instead, to perform the operation inplace on the original object.\n",
      "\n",
      "\n",
      "  df[\"ca\"].fillna(df[\"ca\"].mean(),inplace=True)\n",
      "C:\\Users\\AIO\\AppData\\Local\\Temp\\ipykernel_1820\\441687631.py:3: FutureWarning: A value is trying to be set on a copy of a DataFrame or Series through chained assignment using an inplace method.\n",
      "The behavior will change in pandas 3.0. This inplace method will never work because the intermediate object on which we are setting values always behaves as a copy.\n",
      "\n",
      "For example, when doing 'df[col].method(value, inplace=True)', try using 'df.method({col: value}, inplace=True)' or df[col] = df[col].method(value) instead, to perform the operation inplace on the original object.\n",
      "\n",
      "\n",
      "  df['thal'].fillna(df[\"thal\"].mean(),inplace=True)\n"
     ]
    }
   ],
   "source": [
    "df = pd.read_csv(\"../data/heart_disease.csv\")\n",
    "df[\"ca\"].fillna(df[\"ca\"].mean(),inplace=True)\n",
    "df['thal'].fillna(df[\"thal\"].mean(),inplace=True)\n",
    "X = df.drop(\"num\", axis=1)\n",
    "y = df[\"num\"]"
   ]
  },
  {
   "cell_type": "code",
   "execution_count": 26,
   "id": "a4f52b91",
   "metadata": {},
   "outputs": [
    {
     "name": "stdout",
     "output_type": "stream",
     "text": [
      "Feature mportance (Random Forest):\n",
      " thalach     0.132721\n",
      "oldpeak     0.117086\n",
      "age         0.113117\n",
      "chol        0.111713\n",
      "ca          0.098518\n",
      "trestbps    0.097332\n",
      "thal        0.085348\n",
      "cp          0.080555\n",
      "exang       0.048784\n",
      "slope       0.038274\n",
      "restecg     0.028931\n",
      "sex         0.028727\n",
      "fbs         0.018894\n",
      "dtype: float64\n"
     ]
    },
    {
     "data": {
      "image/png": "[encoded data removed]",
      "text/plain": [
       "<Figure size 800x500 with 1 Axes>"
      ]
     },
     "metadata": {},
     "output_type": "display_data"
    }
   ],
   "source": [
    "from sklearn.ensemble import RandomForestClassifier\n",
    "rf=RandomForestClassifier(n_estimators=100,random_state=40)\n",
    "rf.fit(X,y)\n",
    "#Get feature importance\n",
    "feature_importances=pd.Series(rf.feature_importances_,index=X.columns).sort_values(ascending=False)\n",
    "print(\"Feature mportance (Random Forest):\\n\",feature_importances)\n",
    "# plot feature importance\n",
    "plt.figure(figsize=(8,5))\n",
    "sns.barplot(x=feature_importances.values, y=feature_importances.index)\n",
    "plt.title(\"Feature Importance (Random Forest)\")\n",
    "plt.xlabel(\"Importance\")\n",
    "plt.ylabel(\"Features\")\n",
    "plt.show()\n",
    "\n"
   ]
  },
  {
   "cell_type": "code",
   "execution_count": 30,
   "id": "6bf9ff76",
   "metadata": {},
   "outputs": [],
   "source": [
    "from sklearn.preprocessing import StandardScaler\n",
    "\n",
    "scaler = StandardScaler()\n",
    "X_scaled = scaler.fit_transform(X)\n"
   ]
  },
  {
   "cell_type": "code",
   "execution_count": 31,
   "id": "8812ac18",
   "metadata": {},
   "outputs": [
    {
     "name": "stdout",
     "output_type": "stream",
     "text": [
      "Selected Features by RFE: Index(['cp', 'restecg', 'oldpeak', 'ca', 'thal'], dtype='object')\n"
     ]
    }
   ],
   "source": [
    "from sklearn.linear_model import LogisticRegression\n",
    "from sklearn.feature_selection import RFE\n",
    "\n",
    "log_reg = LogisticRegression(max_iter=5000)  \n",
    "rfe = RFE(log_reg, n_features_to_select=5)  \n",
    "fit = rfe.fit(X_scaled, y)\n",
    "\n",
    "print(\"Selected Features by RFE:\", X.columns[fit.support_])\n"
   ]
  },
  {
   "cell_type": "code",
   "execution_count": 28,
   "id": "b0fae67e",
   "metadata": {},
   "outputs": [
    {
     "name": "stdout",
     "output_type": "stream",
     "text": [
      "Chi-Square Scores:\n",
      " thal        48.012868\n",
      "exang       41.534482\n",
      "ca          35.395825\n",
      "oldpeak     16.451213\n",
      "slope       14.046618\n",
      "cp           8.234094\n",
      "sex          7.499223\n",
      "restecg      7.028775\n",
      "fbs          6.658223\n",
      "thalach      3.133976\n",
      "age          1.244886\n",
      "trestbps     0.622014\n",
      "chol         0.175931\n",
      "dtype: float64\n"
     ]
    }
   ],
   "source": [
    "from sklearn.preprocessing import MinMaxScaler\n",
    "from sklearn.feature_selection import chi2\n",
    "\n",
    "# Scale features to [0,1] for chi-square\n",
    "X_scaled_chi = MinMaxScaler().fit_transform(X)\n",
    "\n",
    "# Apply chi-square test\n",
    "chi_scores, p_values = chi2(X_scaled_chi, y)\n",
    "chi_results = pd.Series(chi_scores, index=X.columns).sort_values(ascending=False)\n",
    "print(\"Chi-Square Scores:\\n\", chi_results)\n"
   ]
  },
  {
   "cell_type": "code",
   "execution_count": 29,
   "id": "8d0aa77a",
   "metadata": {},
   "outputs": [
    {
     "name": "stdout",
     "output_type": "stream",
     "text": [
      "Final dataset with selected features:\n",
      "    cp  thalach  oldpeak   ca  thal\n",
      "0   1      150      2.3  0.0   6.0\n",
      "1   4      108      1.5  3.0   3.0\n",
      "2   4      129      2.6  2.0   7.0\n",
      "3   3      187      3.5  0.0   3.0\n",
      "4   2      172      1.4  0.0   3.0\n"
     ]
    }
   ],
   "source": [
    "# Example: pick top features consistently ranked high across methods\n",
    "final_features = ['cp', 'thalach', 'oldpeak', 'ca', 'thal']\n",
    "X_final = X[final_features]\n",
    "print(\"Final dataset with selected features:\\n\", X_final.head())\n"
   ]
  },
  {
   "cell_type": "code",
   "execution_count": null,
   "id": "552bd049",
   "metadata": {},
   "outputs": [],
   "source": []
  }
 ],
 "metadata": {
  "kernelspec": {
   "display_name": "Python 3",
   "language": "python",
   "name": "python3"
  },
  "language_info": {
   "codemirror_mode": {
    "name": "ipython",
    "version": 3
   },
   "file_extension": ".py",
   "mimetype": "text/x-python",
   "name": "python",
   "nbconvert_exporter": "python",
   "pygments_lexer": "ipython3",
   "version": "3.11.9"
  }
 },
 "nbformat": 4,
 "nbformat_minor": 5
}
